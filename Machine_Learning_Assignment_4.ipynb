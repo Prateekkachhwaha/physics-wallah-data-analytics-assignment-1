{
  "nbformat": 4,
  "nbformat_minor": 0,
  "metadata": {
    "colab": {
      "provenance": []
    },
    "kernelspec": {
      "name": "python3",
      "display_name": "Python 3"
    },
    "language_info": {
      "name": "python"
    }
  },
  "cells": [
    {
      "cell_type": "markdown",
      "source": [
        "**Assignment Code: DA-AG-015**\n",
        "#Boosting Techniques | Assignment\n",
        "\n",
        "#Question-1 What is Boosting in Machine Learning? Explain how it improves weak learners.\n",
        "- boosting is an machine learning technique that combines or adds several weak learning program into one strong learning program that performs better for us and for data.\n",
        "- points on how it improves the weak learners:-\n",
        " - Boosting teaches each model to learn from the last one’s mistakes.\n",
        " - It gives more attention to the examples that were hard to get right.\n",
        " - Each new model tries to fix what the previous ones messed up.\n",
        " - Instead of starting from scratch, it builds on what’s already been learned.\n",
        " - The models work together—each one fills in where others fall short.\n",
        " - It’s like a team effort, where everyone improves a little, and the group wins.\n",
        " - Bad predictions get corrected step by step until the results are solid.\n",
        " - Boosting turns a bunch of okay models into one really smart one.\n"
      ],
      "metadata": {
        "id": "nih0XW3nYCjT"
      }
    },
    {
      "cell_type": "markdown",
      "source": [
        "#question-2 What is the difference between AdaBoost and Gradient Boosting in terms of how models are trained?\n",
        "- AdaBoost adjusts the weights of the data points, while Gradient Boosting adjusts the predictions using gradients.\n",
        "- AdaBoost focuses on misclassified examples, while Gradient Boosting focuses on minimizing the loss function.\n",
        "- AdaBoost reweights the data after each model, while Gradient Boosting fits the new model to the residual errors.\n",
        "- AdaBoost assigns higher weights to hard examples, while Gradient Boosting corrects mistakes using gradient descent.\n",
        "- AdaBoost typically uses exponential loss, while Gradient Boosting can use different loss functions like MSE or log loss."
      ],
      "metadata": {
        "id": "REYItgg1aSAX"
      }
    },
    {
      "cell_type": "markdown",
      "source": [
        "#question-3 How does regularization help in XGBoost?\n",
        "- points on how regulation help in XGBOOST are written below:-\n",
        " - It penalizes complex models by adding terms for tree size and leaf weights to the loss function.\n",
        " - It encourages the model to keep trees simple and shallow, avoiding overly complex splits.\n",
        " - It controls the magnitude of leaf weights, preventing any single leaf from having too much influence.\n",
        " - It helps reduce variance, making predictions more stable on new data.\n",
        " - It balances the trade-off between model fit and complexity for better overall performance."
      ],
      "metadata": {
        "id": "mYDCqV2ibAl-"
      }
    },
    {
      "cell_type": "markdown",
      "source": [
        "#question-4 Why is CatBoost considered efficient for handling categorical data?\n",
        "- CatBoost is awesome with categorical data because it doesn’t make you mess around with complicated encoding tricks like one-hot or label encoding. Instead, it has a smart way of turning categories into numbers that avoids sneaky data leaks and overfitting. It also handles categories with tons of unique values really smoothly, so you don’t have to worry about it getting confused. Basically, CatBoost just gets categorical data and works with it naturally, which makes it faster and more accurate without extra hassle."
      ],
      "metadata": {
        "id": "kFPmFKLWbfzV"
      }
    },
    {
      "cell_type": "markdown",
      "source": [
        "# question-5 What are some real-world applications where boosting techniques are preferred over bagging methods?\n",
        "- some of real- world applications where boosting techniques are preferred over bagging methods are written below:-\n",
        " - Credit scoring and fraud detection\n",
        " - Customer churn prediction\n",
        " - Click-through rate (CTR) prediction\n",
        " - Medical diagnosis and disease prediction\n",
        " - Recommendation systems\n",
        " - Sales forecasting\n",
        " - Natural language processing tasks"
      ],
      "metadata": {
        "id": "nW3ic3mycCip"
      }
    },
    {
      "cell_type": "markdown",
      "source": [
        "#Datasets:\n",
        "-  Use sklearn.datasets.load_breast_cancer() for classification tasks.\n",
        "-  Use sklearn.datasets.fetch_california_housing() for regression\n",
        "tasks."
      ],
      "metadata": {
        "id": "vku8oe7EdLLG"
      }
    },
    {
      "cell_type": "markdown",
      "source": [
        "# question-6 Write a Python program to:\n",
        "- Train an AdaBoost Classifier on the Breast Cancer dataset\n",
        "-  Print the model accuracy"
      ],
      "metadata": {
        "id": "JmnBMeVNdDJN"
      }
    },
    {
      "cell_type": "code",
      "execution_count": 1,
      "metadata": {
        "colab": {
          "base_uri": "https://localhost:8080/"
        },
        "id": "-ZXyocxSX6Wp",
        "outputId": "6500bd9d-9f47-4524-d24b-60a519f5d36b"
      },
      "outputs": [
        {
          "output_type": "stream",
          "name": "stdout",
          "text": [
            "Model Accuracy: 0.9649\n"
          ]
        }
      ],
      "source": [
        "from sklearn.datasets import load_breast_cancer\n",
        "from sklearn.model_selection import train_test_split\n",
        "from sklearn.ensemble import AdaBoostClassifier\n",
        "from sklearn.metrics import accuracy_score\n",
        "\n",
        "# Loading the  data\n",
        "data = load_breast_cancer()\n",
        "X, y = data.data, data.target\n",
        "\n",
        "# Spliting the data\n",
        "X_train, X_test, y_train, y_test = train_test_split(X, y, test_size=0.2, random_state=42)\n",
        "\n",
        "# Initialize AdaBoost Classifier\n",
        "model = AdaBoostClassifier(random_state=42)\n",
        "\n",
        "# Train the model\n",
        "model.fit(X_train, y_train)\n",
        "\n",
        "# Predict on test data\n",
        "y_pred = model.predict(X_test)\n",
        "\n",
        "# Calculate accuracy\n",
        "accuracy = accuracy_score(y_test, y_pred)\n",
        "print(f\"Model Accuracy: {accuracy:.4f}\")\n"
      ]
    },
    {
      "cell_type": "markdown",
      "source": [
        "# question-7 Write a Python program to:\n",
        "-  Train a Gradient Boosting Regressor on the California Housing dataset\n",
        "-  Evaluate performance using R-squared score\n"
      ],
      "metadata": {
        "id": "6cLWfZbsdilP"
      }
    },
    {
      "cell_type": "code",
      "source": [
        "from sklearn.datasets import fetch_california_housing\n",
        "from sklearn.ensemble import GradientBoostingRegressor\n",
        "from sklearn.metrics import r2_score\n",
        "\n",
        "# Loading dataset\n",
        "data = fetch_california_housing()\n",
        "X, y = data.data, data.target\n",
        "\n",
        "# Spliting the data\n",
        "X_train, X_test, y_train, y_test = train_test_split(X, y, test_size=0.2, random_state=42)\n",
        "\n",
        "# Initialize Gradient Boosting Regressor\n",
        "model = GradientBoostingRegressor(random_state=42)\n",
        "\n",
        "# Train the model\n",
        "model.fit(X_train, y_train)\n",
        "\n",
        "# Predict on test data\n",
        "y_pred = model.predict(X_test)\n",
        "\n",
        "# Calculate R-squared score\n",
        "r2 = r2_score(y_test, y_pred)\n",
        "print(f\"R-squared Score: {r2:.4f}\")\n"
      ],
      "metadata": {
        "colab": {
          "base_uri": "https://localhost:8080/"
        },
        "id": "FnQJ4ZD5dc1B",
        "outputId": "dc17e3b3-b340-4092-fc47-57663d58d5fd"
      },
      "execution_count": 2,
      "outputs": [
        {
          "output_type": "stream",
          "name": "stdout",
          "text": [
            "R-squared Score: 0.7756\n"
          ]
        }
      ]
    },
    {
      "cell_type": "markdown",
      "source": [
        "# question-8 Write a Python program to:\n",
        "- Train an XGBoost Classifier on the Breast Cancer dataset\n",
        "- Tune the learning rate using GridSearchCV\n",
        "- Print the best parameters and accuracy"
      ],
      "metadata": {
        "id": "8LOtrBbGd9Sb"
      }
    },
    {
      "cell_type": "markdown",
      "source": [
        "# question-9 Write a Python program to:\n",
        "- Train a CatBoost Classifier\n",
        "- Plot the confusion matrix using seaborn\n"
      ],
      "metadata": {
        "id": "2FW5tC_jeE1f"
      }
    },
    {
      "cell_type": "code",
      "source": [
        "from sklearn.ensemble import AdaBoostClassifier\n",
        "from sklearn.metrics import confusion_matrix\n",
        "import seaborn as sns\n",
        "import matplotlib.pyplot as plt\n",
        "\n",
        "# Loading dataset\n",
        "data = load_breast_cancer()\n",
        "X, y = data.data, data.target\n",
        "\n",
        "# Spliting the data\n",
        "X_train, X_test, y_train, y_test = train_test_split(X, y, test_size=0.2, random_state=42)\n",
        "\n",
        "# Initialize AdaBoost Classifier\n",
        "model = AdaBoostClassifier(random_state=42)\n",
        "\n",
        "# Training the data\n",
        "model.fit(X_train, y_train)\n",
        "\n",
        "# Predict on test data\n",
        "y_pred = model.predict(X_test)\n",
        "\n",
        "# Compute confusion matrix\n",
        "cm = confusion_matrix(y_test, y_pred)\n",
        "\n",
        "# Plot confusion matrix using seaborn\n",
        "plt.figure(figsize=(6,5))\n",
        "sns.heatmap(cm, annot=True, fmt='d', cmap='Blues', xticklabels=data.target_names, yticklabels=data.target_names)\n",
        "plt.xlabel('Predicted')\n",
        "plt.ylabel('Actual')\n",
        "plt.title('Confusion Matrix - AdaBoost Classifier')\n",
        "plt.show()\n",
        "\n"
      ],
      "metadata": {
        "colab": {
          "base_uri": "https://localhost:8080/",
          "height": 487
        },
        "id": "w26I9Hu-d77w",
        "outputId": "29589eff-5d19-4122-e656-c16a34df54e0"
      },
      "execution_count": 5,
      "outputs": [
        {
          "output_type": "display_data",
          "data": {
            "text/plain": [
              "<Figure size 600x500 with 2 Axes>"
            ],
            "image/png": "[encoded data removed]"
          },
          "metadata": {}
        }
      ]
    },
    {
      "cell_type": "markdown",
      "source": [
        "###question-10 You're working for a FinTech company trying to predict loan default using customer demographics and transaction behavior. The dataset is imbalanced, contains missing values, and has both numeric andcategorical features.\n",
        "- Describe your step-by-step data science pipeline using boosting techniques:\n",
        " -  Data preprocessing & handling missing/categorical values\n",
        " -  Choice between AdaBoost, XGBoost, or CatBoost\n",
        " -  Hyperparameter tuning strategy\n",
        " - Evaluation metrics you'd choose and why\n",
        " -  How the business would benefit from your model"
      ],
      "metadata": {
        "id": "CVGgEnI8eumX"
      }
    },
    {
      "cell_type": "code",
      "source": [],
      "metadata": {
        "id": "FvMSQCdheTRp"
      },
      "execution_count": null,
      "outputs": []
    }
  ]
}