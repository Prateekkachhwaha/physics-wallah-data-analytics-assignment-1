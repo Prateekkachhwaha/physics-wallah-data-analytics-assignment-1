{
  "nbformat": 4,
  "nbformat_minor": 0,
  "metadata": {
    "colab": {
      "provenance": []
    },
    "kernelspec": {
      "name": "python3",
      "display_name": "Python 3"
    },
    "language_info": {
      "name": "python"
    }
  },
  "cells": [
    {
      "cell_type": "markdown",
      "source": [
        "##Theory Questions:##\n",
        "\n",
        "##question 1.What is the difference between a function and a method in Python?\n",
        "\n",
        "- ### **Function**  \n",
        "A function is something you write to do a job. It's not part of a class.\n",
        "- function is universal. because it is outside class\n",
        "\n",
        "```python\n",
        "def say_hello(name):\n",
        "    print(\"Hello\", name)\n",
        "\n",
        "say_hello(\"Alice\")  # Works by itself\n",
        "```\n",
        "\n",
        "\n",
        "\n",
        "- ###  **Method**  \n",
        "A method is like a function, but it's **inside a class** and works on an **object** (like a little robot you build and tell what to do).\n",
        "- method is not unniversal because it is inside class\n",
        "```python\n",
        "class Greeter:\n",
        "    def say_hello(self, name):\n",
        "        print(\"Hello\", name)\n",
        "\n",
        "\n",
        "\n",
        "\n",
        "## question-2.Explain the concept of function arguments and parameters in Python.\n",
        "- ###  **Parameters**  \n",
        " - These are **placeholders** in a function **definition**.\n",
        " - They say: \"This function needs this kind of data.\"\n",
        "\n",
        "```python\n",
        "def greet(name):  # ← 'name' is a parameter\n",
        "    print(\"Hello\", name)\n",
        "```\n",
        "\n",
        "- ###  **Arguments**  \n",
        "  - These are the **actual values** you **pass into** the function when you call it.\n",
        " - They fill in the blanks.\n",
        "\n",
        "```python\n",
        "greet(\"Alice\")  # ← \"Alice\" is an argument\n",
        "```\n",
        "##question-3.What are the different ways to define and call a function in Python?\n",
        "- In Python, functions can be defined and called in several ways depending on your needs. Here's a rundown of the **different ways to define and call functions**:\n",
        "\n",
        "\n",
        "\n",
        "###  **1. Regular Function Definition**\n",
        "- A basic function that takes input and returns output.\n",
        "```python\n",
        "def greet(name):\n",
        "    return f\"Hello, {name}!\"\n",
        "```\n",
        "\n",
        "**output:**\n",
        "```python\n",
        "greet(\"Alice\")  # Output: 'Hello, Alice!'\n",
        "```\n",
        "\n",
        "\n",
        "\n",
        "###  **2. Function with Default Arguments**\n",
        "- A function where parameters have default values if none are provided.\n",
        "```python\n",
        "def greet(name=\"Guest\"):\n",
        "    return f\"Hello, {name}!\"\n",
        "```\n",
        "\n",
        "**output:**\n",
        "```python\n",
        "greet()         # 'Hello, Guest!'\n",
        "greet(\"Eve\")    # 'Hello, Eve!'\n",
        "```\n",
        "\n",
        "\n",
        "\n",
        "###  **3. Function with Variable Positional Arguments (`*args`)**\n",
        "- Accepts any number of positional arguments as a tuple.\n",
        "```python\n",
        "def add_numbers(*args):\n",
        "    return sum(args)\n",
        "```\n",
        "\n",
        "**output:**\n",
        "```python\n",
        "add_numbers(1, 2, 3)  # Output: 6\n",
        "```\n",
        "\n",
        "\n",
        "###  **4. Function with Variable Keyword Arguments (`**kwargs`)**\n",
        "- Accepts any number of keyword arguments as a dictionary.\n",
        "```python\n",
        "def print_info(**kwargs):\n",
        "    for key, value in kwargs.items():\n",
        "        print(f\"{key}: {value}\")\n",
        "```\n",
        "\n",
        "**output:**\n",
        "```python\n",
        "print_info(name=\"Alice\", age=30)\n",
        "```\n",
        "\n",
        "\n",
        "### **5. Lambda (Anonymous) Function**\n",
        "-A small, anonymous function defined with lambda.\n",
        "```python\n",
        "add = lambda x, y: x + y\n",
        "```\n",
        "\n",
        "**output:**\n",
        "```python\n",
        "add(2, 3)  # Output: 5\n",
        "```\n",
        "\n",
        "\n",
        "\n",
        "##question-4. What is the purpose of the `return` statement in a Python function?\n",
        "- the purpose of return statement is to end the function and return the value.\n",
        "``` python\n",
        "def add(x,y):\n",
        "  return x+y\n",
        "  ```\n",
        "\n",
        "**output**\n",
        "```python\n",
        "add(2,3)  \n",
        "#output=5\n",
        "```\n",
        "\n",
        "##question-5.What are iterators in Python and how do they differ from iterables?\n",
        "\n",
        "- ###  **Iterable**\n",
        " - An **iterable** is anything you can loop over, like a list, string, or tuple.\n",
        "\n",
        " Example:\n",
        "```python\n",
        "for x in [1, 2, 3]:  # [1, 2, 3] is an iterable\n",
        "    print(x)\n",
        "```\n",
        "\n",
        "\n",
        "\n",
        "- ###  **Iterator**\n",
        "  -An **iterator** is an object that gives one value at a time when you use `next()`.\n",
        "\n",
        "Example:\n",
        "```python\n",
        "nums = iter([1, 2, 3])  # convert list to iterator\n",
        "print(next(nums))  # 1\n",
        "print(next(nums))  # 2\n",
        "```\n",
        "\n",
        "##question-6. Explain the concept of generators in Python and how they are defined.\n",
        "- A generator is a special type of function that produces values one at a time using the yield keyword instead of return.\n",
        "\n",
        "They are useful when:\n",
        "\n",
        "   -You want to generate a large sequence of values.\n",
        "\n",
        "  -You don’t want to store the entire sequence in memory.\n",
        "\n",
        "```python\n",
        "  def count_up_to(n):\n",
        "    i = 1\n",
        "    while i <= n:\n",
        "        yield i\n",
        "        i += 1\n",
        "  ```\n",
        "\n",
        "\n",
        "## question-7What are the advantages of using generators over regular functions?\n",
        "- Advantages of Generators:\n",
        "  - Memory Efficient – Uses less memory (no full list in RAM).\n",
        "\n",
        "  - Faster Start – Yields values one by one, right away.\n",
        "\n",
        "  - Keeps State – Remembers where it left off.\n",
        "\n",
        "  - Cleaner Code – Easier than writing custom iterators.\n",
        "\n",
        "  - Loop Friendly – Works perfectly with for loops.\n",
        "\n",
        "  - Great for Big Data – Ideal for reading large files or streams.\n",
        "\n",
        "##question-8.What is a lambda function in Python and when is it typically used?\n",
        "- A lambda function is a small, anonymous function defined using the lambda keyword.\n",
        "- It can take any number of arguments but only has one expression. The result of the expression is automatically returned.\n",
        "- it makes code more cleaner.\n",
        "- it makes code more short.\n",
        "\n",
        " - syntax\n",
        "   - lambda arguments: expression\n",
        "\n",
        "```python\n",
        "even_number(1,2,3,4,5)\n",
        "  n=list(filter(lambda n:n%2==0,even,number))\n",
        "  print(n)\n",
        "```\n",
        "  **output**\n",
        "  ```python\n",
        "  [2, 4, 6]\n",
        "  ```\n",
        "\n",
        "##question-9.Explain the purpose and usage of the `map()` function in Python.\n",
        "- The map() function in Python is used to apply a function to all items in an iterable (e.g., list, tuple, etc.)\n",
        "- it returns a map object, which can be converted into a list or other iterable types.\n",
        "\n",
        "```python\n",
        "numbers = [1, 2, 3, 4, 5]\n",
        "\n",
        "# Using map to square each number\n",
        "squared_numbers = map(lambda x: x**2, numbers)\n",
        "\n",
        "# Convert the result to a list and print it\n",
        "print(list(squared_numbers))  \n",
        "```\n",
        "\n",
        "**output**\n",
        "```python\n",
        "Output: [1, 4, 9, 16, 25]\n",
        "```\n",
        "\n",
        "\n",
        "##question-10. What is the difference between `map()`, `reduce()`, and `filter()` functions in Python?\n",
        "\n",
        "### 1. **`map()`**\n",
        "- **What it does**: Applies a **function** to **every item** in a list.\n",
        "- **Example**: Square every number.\n",
        "```python\n",
        "numbers = [1, 2, 3]\n",
        "result = map(lambda x: x**2, numbers)\n",
        "print(list(result))  # Output: [1, 4, 9]\n",
        "```\n",
        "\n",
        "\n",
        "\n",
        "### 2. **`filter()`**\n",
        "- **What it does**: Keeps **items** that **pass a condition** (function returns `True`).\n",
        "- **Example**: Keep only even numbers.\n",
        "```python\n",
        "numbers = [1, 2, 3, 4]\n",
        "result = filter(lambda x: x % 2 == 0, numbers)\n",
        "print(list(result))  # Output: [2, 4]\n",
        "```\n",
        "\n",
        "\n",
        "\n",
        "### 3. **`reduce()`**\n",
        "- **What it does**: **Reduces** the list to **one value** (by applying a function to combine them).\n",
        "- **Example**: Multiply all numbers together.\n",
        "```python\n",
        "from functools import reduce\n",
        "numbers = [1, 2, 3, 4]\n",
        "result = reduce(lambda x, y: x * y, numbers)\n",
        "print(result)  # Output: 24 (1 * 2 * 3 * 4)\n",
        "```\n",
        "\n",
        "\n",
        "\n",
        "\n",
        "\n",
        "\n",
        "\n",
        "\n",
        "\n"
      ],
      "metadata": {
        "id": "iUeJ-sY_J46g"
      }
    },
    {
      "cell_type": "markdown",
      "source": [
        "##Practical Questions:**##\n",
        "#question-1. Write a Python function that takes a list of numbers as input and returns the sum of all even numbers in the list.\n"
      ],
      "metadata": {
        "id": "0_3TgEIzZD9L"
      }
    },
    {
      "cell_type": "code",
      "source": [
        "def sum_even_numbers(numbers):\n",
        "    sum_even = 0\n",
        "    for i in numbers:\n",
        "        if i % 2 == 0:\n",
        "            sum_even += i\n",
        "    return sum_even\n",
        "sum_even_numbers([1,2,3,4,5,6,7,8,9,10])"
      ],
      "metadata": {
        "id": "Sd2MUL5BzNsY",
        "colab": {
          "base_uri": "https://localhost:8080/"
        },
        "outputId": "555731f9-0a76-44ae-e79f-6228bf2024d8"
      },
      "execution_count": null,
      "outputs": [
        {
          "output_type": "execute_result",
          "data": {
            "text/plain": [
              "30"
            ]
          },
          "metadata": {},
          "execution_count": 6
        }
      ]
    },
    {
      "cell_type": "markdown",
      "source": [
        "##question-2. Create a Python function that accepts a string and returns the reverse of that string."
      ],
      "metadata": {
        "id": "HZVmbdlncfoJ"
      }
    },
    {
      "cell_type": "code",
      "source": [
        "def reverse_string(string):\n",
        "    return string[::-1]\n",
        "reverse_string(\"helloworld\")\n"
      ],
      "metadata": {
        "colab": {
          "base_uri": "https://localhost:8080/",
          "height": 35
        },
        "id": "iVP7DSPwbnmU",
        "outputId": "68a343be-0eed-447d-fd56-772c89e4e1e9"
      },
      "execution_count": null,
      "outputs": [
        {
          "output_type": "execute_result",
          "data": {
            "text/plain": [
              "'dlrowolleh'"
            ],
            "application/vnd.google.colaboratory.intrinsic+json": {
              "type": "string"
            }
          },
          "metadata": {},
          "execution_count": 11
        }
      ]
    },
    {
      "cell_type": "markdown",
      "source": [
        "##question-3. Implement a Python function that takes a list of integers and returns a new list containing the squares of each number."
      ],
      "metadata": {
        "id": "zQCLCBKnee3o"
      }
    },
    {
      "cell_type": "code",
      "source": [
        "def square_numbers(numbers):\n",
        "    squares = []\n",
        "    for i in numbers:\n",
        "        squares.append(i**2)\n",
        "    return squares\n",
        "square_numbers([1,2,3,4,5])\n",
        "\n",
        "\n"
      ],
      "metadata": {
        "colab": {
          "base_uri": "https://localhost:8080/"
        },
        "id": "RkfrLCy7eQ-X",
        "outputId": "f83c4f28-f9ee-421c-e1bc-61e1052ae5f4"
      },
      "execution_count": null,
      "outputs": [
        {
          "output_type": "execute_result",
          "data": {
            "text/plain": [
              "[1, 4, 9, 16, 25]"
            ]
          },
          "metadata": {},
          "execution_count": 16
        }
      ]
    },
    {
      "cell_type": "markdown",
      "source": [
        "##question-4. Write a Python function that checks if a given number is prime or not from 1 to 200.\n"
      ],
      "metadata": {
        "id": "V33_MfgMe2W6"
      }
    },
    {
      "cell_type": "code",
      "source": [
        "#Write a Python function that checks if a given number is prime or not from 1 to 200.\n",
        "def is_prime(number):\n",
        "    if number < 2:\n",
        "        return False\n",
        "    for i in range(2, int(number**0.5)+1):  #it sees all the numbers from 2 upto the number written in i\n",
        "        if number%i==0:  #it checks that if a numbers is giving 0 remainder that means it is divisible into 2 so its not prime numbers\n",
        "            return False\n",
        "        return True\n",
        "\n",
        "is_prime(5)\n",
        "\n"
      ],
      "metadata": {
        "id": "sewVnxcQgjt6",
        "colab": {
          "base_uri": "https://localhost:8080/"
        },
        "outputId": "e32c78ba-72ab-40c6-c8a6-19d481017d40"
      },
      "execution_count": null,
      "outputs": [
        {
          "output_type": "execute_result",
          "data": {
            "text/plain": [
              "True"
            ]
          },
          "metadata": {},
          "execution_count": 5
        }
      ]
    },
    {
      "cell_type": "markdown",
      "source": [
        "##question-5. Create an iterator class in Python that generates the Fibonacci sequence up to a specified number of terms."
      ],
      "metadata": {
        "id": "mfuP0uJ9geiz"
      }
    },
    {
      "cell_type": "code",
      "source": [
        "#Write a Python function that checks if a given number is prime or not from 1 to 200.Write a Python function that checks if a given number is prime or not from 1 to 200.\n",
        "def fib_series(number):\n",
        "    a,b=0,1\n",
        "    for i in range(number):\n",
        "        yield a\n",
        "        a,b=b,a+b\n",
        "gen=fib_series(21)\n",
        "for i in gen:\n",
        "  print(i)\n",
        "\n"
      ],
      "metadata": {
        "id": "GxGJTacqg5oH",
        "colab": {
          "base_uri": "https://localhost:8080/"
        },
        "outputId": "3354013f-1ec8-4c82-e06a-96353b7014b9"
      },
      "execution_count": null,
      "outputs": [
        {
          "output_type": "stream",
          "name": "stdout",
          "text": [
            "0\n",
            "1\n",
            "1\n",
            "2\n",
            "3\n",
            "5\n",
            "8\n",
            "13\n",
            "21\n",
            "34\n",
            "55\n",
            "89\n",
            "144\n",
            "233\n",
            "377\n",
            "610\n",
            "987\n",
            "1597\n",
            "2584\n",
            "4181\n",
            "6765\n"
          ]
        }
      ]
    },
    {
      "cell_type": "markdown",
      "source": [
        "##question-6. Write a generator function in Python that yields the powers of 2 up to a given exponent."
      ],
      "metadata": {
        "id": "YmqUTL0svoYG"
      }
    },
    {
      "cell_type": "code",
      "source": [
        "# Write a generator function in Python that yields the powers of 2 up to a given exponent.\n",
        "def power_2(numbers):\n",
        "  for i in range(numbers):\n",
        "    yield 2**i\n",
        "gen=power_2(5)\n",
        "for i in gen:\n",
        "  print(i)"
      ],
      "metadata": {
        "colab": {
          "base_uri": "https://localhost:8080/"
        },
        "id": "y-uo05n2pcKI",
        "outputId": "0895c0ec-ed40-43b1-d97b-a643c7b2eefd"
      },
      "execution_count": null,
      "outputs": [
        {
          "output_type": "stream",
          "name": "stdout",
          "text": [
            "1\n",
            "2\n",
            "4\n",
            "8\n",
            "16\n"
          ]
        }
      ]
    },
    {
      "cell_type": "markdown",
      "source": [
        "##question-7. Implement a generator function that reads a file line by line and yields each line as a string."
      ],
      "metadata": {
        "id": "qlJeOImSxxjk"
      }
    },
    {
      "cell_type": "code",
      "source": [
        "# Implement a generator function that reads a file line by line and yields each line as a string.\n",
        "def line_by_line(string):\n",
        "  for i in string.splitlines():\n",
        "    yield i\n",
        "gen=line_by_line(''' chal bhai\n",
        "kaha\n",
        "vahi jaha koi aata jaata nahi\n",
        " ''')\n",
        "for i in gen:\n",
        "  print(i)"
      ],
      "metadata": {
        "colab": {
          "base_uri": "https://localhost:8080/"
        },
        "id": "UpditQWUwqJP",
        "outputId": "266b0f15-6f9e-4b7c-89e6-406136878833"
      },
      "execution_count": null,
      "outputs": [
        {
          "output_type": "stream",
          "name": "stdout",
          "text": [
            " chal bhai\n",
            "kaha \n",
            "vahi jaha koi aata jaata nahi \n",
            " \n"
          ]
        }
      ]
    },
    {
      "cell_type": "markdown",
      "source": [
        "#question-8. Use a lambda function in Python to sort a list of tuples based on the second element of each tuple."
      ],
      "metadata": {
        "id": "9DxVFZQQ0hnZ"
      }
    },
    {
      "cell_type": "code",
      "source": [
        "# prompt: Use a lambda function in Python to sort a list of tuples based on the second element of each tup\n",
        "\n",
        "data = [(1, 5), (3, 2), (2, 8), (4, 1)]\n",
        "sorted_data = sorted(data, key=lambda x: x[1])\n",
        "sorted_data\n"
      ],
      "metadata": {
        "colab": {
          "base_uri": "https://localhost:8080/"
        },
        "id": "VBJG5bwdJMPt",
        "outputId": "4fe50141-4740-42ff-bf48-d6ca1e6111e7"
      },
      "execution_count": 10,
      "outputs": [
        {
          "output_type": "execute_result",
          "data": {
            "text/plain": [
              "[(4, 1), (3, 2), (1, 5), (2, 8)]"
            ]
          },
          "metadata": {},
          "execution_count": 10
        }
      ]
    },
    {
      "cell_type": "markdown",
      "source": [
        "##question-9. Write a Python program that uses `map()` to convert a list of temperatures from Celsius to Fahrenheit"
      ],
      "metadata": {
        "id": "4xc1XK3P2jX7"
      }
    },
    {
      "cell_type": "code",
      "source": [
        "#. Write a Python program that uses `map()` to convert a list of temperatures from Celsius to Fahrenheit\n",
        "def celsius_to_fahrenheit(celsius):\n",
        "  return (celsius * 9/5) + 32\n",
        "celsius_temperatures = [0, 10, 20, 30, 40]\n",
        "fahrenheit_temperatures = list(map(celsius_to_fahrenheit, celsius_temperatures))\n",
        "print(fahrenheit_temperatures)"
      ],
      "metadata": {
        "colab": {
          "base_uri": "https://localhost:8080/"
        },
        "id": "stpR3dio1lMy",
        "outputId": "9e881115-36ea-4273-be74-92be97c23b48"
      },
      "execution_count": null,
      "outputs": [
        {
          "output_type": "stream",
          "name": "stdout",
          "text": [
            "[32.0, 50.0, 68.0, 86.0, 104.0]\n"
          ]
        }
      ]
    },
    {
      "cell_type": "markdown",
      "source": [
        "##question-10. Create a Python program that uses `filter()` to remove all the vowels from a given string."
      ],
      "metadata": {
        "id": "R0laByYS5s0O"
      }
    },
    {
      "cell_type": "code",
      "source": [
        "# Create a Python program that uses `filter()` to remove all the vowels from a given string.\n",
        "def remove_vowels(name):\n",
        "  vowels = 'aeiouAEIOU'\n",
        "  for i in name:\n",
        "    if i in vowels:\n",
        "      name=name.replace(i,\"\")\n",
        "      return name\n",
        "name=\"hello world\"\n",
        "print(remove_vowels(name))\n",
        "\n",
        "\n"
      ],
      "metadata": {
        "colab": {
          "base_uri": "https://localhost:8080/"
        },
        "id": "vwOda6bI22Gm",
        "outputId": "b560835d-af1c-4d32-caa7-5c1e5b828607"
      },
      "execution_count": null,
      "outputs": [
        {
          "output_type": "stream",
          "name": "stdout",
          "text": [
            "hllo world\n"
          ]
        }
      ]
    },
    {
      "cell_type": "markdown",
      "source": [
        "\n",
        "\n",
        "\n"
      ],
      "metadata": {
        "id": "UJZWUJBu-DjT"
      }
    },
    {
      "cell_type": "code",
      "source": [],
      "metadata": {
        "id": "caWlSSDlGJJ_"
      },
      "execution_count": null,
      "outputs": []
    }
  ]
}