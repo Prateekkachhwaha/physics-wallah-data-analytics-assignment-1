{
  "nbformat": 4,
  "nbformat_minor": 0,
  "metadata": {
    "colab": {
      "provenance": []
    },
    "kernelspec": {
      "name": "python3",
      "display_name": "Python 3"
    },
    "language_info": {
      "name": "python"
    }
  },
  "cells": [
    {
      "cell_type": "markdown",
      "source": [
        "# statistics basis\n",
        "\n",
        "# theory questions"
      ],
      "metadata": {
        "id": "arr9bS8ytQ9y"
      }
    },
    {
      "cell_type": "markdown",
      "source": [
        "# question-1.What is statistics, and why is it important?\n",
        "- Statistics is the branch of mathematics that deals with collecting, analyzing, interpreting, presenting, and organizing data. It helps us make sense of large amounts of information by summarizing and drawing conclusions from data.\n",
        "- **importance** :-\n",
        " - decision making\n",
        " - understand trends\n",
        " - data interpretation\n",
        " - research\n",
        "\n",
        "# question-2.What are the two main types of statistics?\n",
        "- The two main types of statistics are:\n",
        "\n",
        "1. **Descriptive Statistics**\n",
        "\n",
        "   * Summarizes and describes the main features of a dataset.\n",
        "   * Examples: mean, median, mode, range, standard deviation, charts, and graphs.\n",
        "   * Purpose: To give a clear overview of the data.\n",
        "\n",
        "2. **Inferential Statistics**\n",
        "\n",
        "   * Makes predictions or generalizations about a population based on a sample of data.\n",
        "   * Uses probability theory to estimate parameters and test hypotheses.\n",
        "   * Examples: hypothesis testing, confidence intervals, regression analysis.\n",
        "\n",
        "# question-3.What are descriptive statistics?\n",
        "- Descriptive statistics are methods used to summarize and describe the main features of a dataset in a simple and understandable way.\n",
        "\n",
        "# question-4.What is inferential statistics?\n",
        "- Inferential statistics is the branch of statistics that helps you make predictions or generalizations about a larger population based on data collected from a smaller sample.\n",
        "\n",
        "# question-5.What is sampling in statistics?\n",
        "- Sampling in statistics is the process of selecting a smaller group, called a sample, from a larger group, called the population, to study and draw conclusions about the whole population.\n",
        "\n",
        "# question-6.What are the different types of sampling method?\n",
        "- Here are the main **types of sampling methods** in statistics:\n",
        "\n",
        "### 1. **Random Sampling**\n",
        "\n",
        "* Every member of the population has an **equal chance** of being selected.\n",
        "* Example: Drawing names out of a hat.\n",
        "\n",
        "### 2. **Systematic Sampling**\n",
        "\n",
        "* Select every *kth* member from a list.\n",
        "* Example: Pick every 10th person on a list.\n",
        "\n",
        "### 3. **Stratified Sampling**\n",
        "\n",
        "* Population is divided into **groups (strata)** based on characteristics (like age, gender), then random samples are taken from each group.\n",
        "* Ensures representation of all subgroups.\n",
        "\n",
        "### 4. **Cluster Sampling**\n",
        "\n",
        "* Population is divided into clusters (often geographically), then some clusters are randomly selected, and **all members** from those clusters are studied.\n",
        "* Useful when the population is large and spread out.\n",
        "\n",
        "### 5. **Convenience Sampling**\n",
        "\n",
        "* Sample is chosen based on **ease of access**.\n",
        "* Example: Surveying friends or people nearby.\n",
        "* May lead to bias, so less reliable.\n",
        "\n",
        "# question-7.What is the difference between random and non-random sampling?\n",
        "- the difference between random and non random sampling is given below :-\n",
        "  - Random Sampling\n",
        "    - Every member of the population has a known and equal chance of being selected.\n",
        "\n",
        "    - It reduces bias and makes the sample more representative of the population.\n",
        "\n",
        "    - Examples: simple random sampling, systematic sampling, stratified sampling, cluster sampling.\n",
        "\n",
        "  - Non-Random Sampling\n",
        "    - Members are selected without random chance, often based on convenience or judgment.\n",
        "\n",
        "    - It can introduce bias and may not represent the population well.\n",
        "\n",
        "    - Examples: convenience sampling, judgmental sampling, quota sampling.\n",
        "\n",
        "# question-8.Define and give examples of qualitative and quantitative data?\n",
        "- Qualitative Data\n",
        "   - Definition: Descriptive data that describes qualities or characteristics.\n",
        "\n",
        "  - Type: Non-numerical.\n",
        "\n",
        "  - Examples:\n",
        "\n",
        "    - Colors (red, blue, green)\n",
        "\n",
        "    - Gender (male, female)\n",
        "\n",
        "- Quantitative Data\n",
        "  - Definition: Numerical data that can be measured or counted.\n",
        "\n",
        "  - Type: Numbers.\n",
        "\n",
        "  - Examples:\n",
        "\n",
        "    - Age (25, 30, 45)\n",
        "\n",
        "    - Height in cm (160, 175, 182)\n",
        "\n",
        "\n",
        " # question-9.What are the different types of data in statistics?\n",
        " * **Qualitative data:** Describes categories or qualities (e.g., color, gender).\n",
        "* **Quantitative data:** Numerical values that can be counted or measured (e.g., age, height).\n",
        "\n",
        "# question-10.Explain nominal, ordinal, interval, and ratio levels of measurement.\n",
        "- explanation of the four levels of measurement are given below:\n",
        "\n",
        "  - Nominal: Categories with no order (e.g., colors, gender).\n",
        "\n",
        "  - Ordinal: Categories with a meaningful order but no exact difference between ranks (e.g., race positions: 1st, 2nd, 3rd).\n",
        "\n",
        "  - Interval: Ordered categories with equal intervals but no true zero (e.g., temperature in Celsius).\n",
        "\n",
        "  - Ratio: Like interval, but with a true zero allowing meaningful ratios (e.g., weight, height).\n",
        "\n",
        "# question-11.What is the measure of central tendency?\n",
        "- measure of central tendency is a statistical value that represents the center or typical value of a dataset.\n",
        "\n",
        "\n",
        "# question-12.Define mean, median, and mode.\n",
        "- Here are simple definitions:\n",
        "\n",
        "  - Mean- The average of all numbers (sum divided by count).\n",
        "  - Median- The middle value when data is sorted.\n",
        "  - Mode- The value that appears most often.\n",
        "\n",
        "# question-13.What is the significance of the measure of central tendency?\n",
        "- the significance of measure of central tendency is written below:-\n",
        "  - Summarizes a large set of data with a single value that represents the “center” or typical case.\n",
        "\n",
        "  - Helps in understanding the overall pattern or trend in the data.\n",
        "\n",
        "  - Allows easy comparison between different datasets.\n",
        "\n",
        "  - Is useful for making decisions and predictions based on data.\n",
        "\n",
        "# question-14.What is variance, and how is it calculated?\n",
        "- Variance measures how much the data points spread out from the mean (average). It tells you how much the values differ from the average value.\n",
        "\n",
        "  - How to calculate variance:\n",
        "    - Find the mean (average) of the data.\n",
        "\n",
        "    - Subtract the mean from each data point and square the result.\n",
        "\n",
        "    - Find the average of those squared differences.\n",
        "\n",
        "# question-15.What is standard deviation, and why is it important.\n",
        "- Standard deviation is a measure of how much the data values spread out or deviate from the mean on average.\n",
        "\n",
        " - its importance:-\n",
        "   - hows how consistent or variable the data is.\n",
        "   - A small standard deviation means data points are close to the mean (less spread).\n",
        "\n",
        "# question-16.Define and explain the term range in statistics.\n",
        "- Range in statistics is the simplest measure of spread or dispersion in a dataset.\n",
        "- It is the difference between the largest and smallest values in the data.\n",
        "\n",
        "# question-17.What is the difference between variance and standard deviation?\n",
        "- Variance measures the average squared distance from the mean.\n",
        "\n",
        "- Standard deviation is the square root of variance and shows average spread in original units.\n",
        "\n",
        "#question-18.What is skewness in a dataset.\n",
        "- Skewness shows if data is **unevenly spread** to one side.\n",
        "\n",
        "  - Positive skew: More values on the left, tail on the right.\n",
        "  - Negative skew: More values on the right, tail on the left.\n",
        "  - No skew:  Data is evenly spread (symmetrical).\n",
        "\n",
        "# question-19.What does it mean if a dataset is positively or negatively skewed?\n",
        "- Positively skewed: Most values are low, with a few high values pulling the tail to the right.\n",
        "→ Mean > Median\n",
        "\n",
        "- Negatively skewed: Most values are high, with a few low values pulling the tail to the left.\n",
        "→ Mean < Median\n",
        "\n",
        "# question-20.Define and explain kurtosis.\n",
        "- Kurtosis measures the \"tailedness\" or peakedness of a data distribution.\n",
        "\n",
        "# question-21.What is the purpose of covariance?\n",
        "- Covariance shows how two variables change together.\n",
        "\n",
        "# question-22.What does correlation measure in statistics?\n",
        "- Correlation measures the strength and direction of the relationship between two variables.\n",
        "\n",
        "# question-23. What is the difference between covariance and correlation?\n",
        "- Covariance shows the direction of a relationship, while **correlation** shows both direction and strength in a standardized way.\n",
        "\n",
        "# question-24.What are some real-world applications of statistics?\n",
        "- Here are some real-world uses of statistics:\n",
        "\n",
        " - Healthcare:** Analyzing patient data to improve treatments.\n",
        " - Business:** Making decisions based on sales and market trends.\n",
        " - Sports:** Evaluating player performance and strategies.\n",
        " - Government:** Planning policies using population data.\n",
        " - Education:** Assessing student performance and improving curricula.\n",
        "\n",
        "\n",
        "\n",
        "\n",
        "\n",
        "\n",
        "\n",
        "\n",
        "\n",
        "\n",
        "\n",
        "\n",
        "\n"
      ],
      "metadata": {
        "id": "90st2LBrtW8S"
      }
    },
    {
      "cell_type": "markdown",
      "source": [
        "#practicle"
      ],
      "metadata": {
        "id": "FQXExWHM332D"
      }
    },
    {
      "cell_type": "markdown",
      "source": [
        "# question-1.How do you calculate the mean, median, and mode of a dataset?"
      ],
      "metadata": {
        "id": "KrCkIjLX50Ue"
      }
    },
    {
      "cell_type": "code",
      "source": [
        "import statistics\n",
        "dataset = [1, 2, 3, 4, 5, 6, 7, 8, 9, 10]\n",
        "mean = sum(dataset) / len(dataset)\n",
        "median = statistics.median(dataset)\n",
        "mode = statistics.mode(dataset)\n",
        "print(f\"Mean: {mean}\")\n",
        "print(f\"Median: {median}\")\n",
        "print(f\"Mode: {mode}\")\n"
      ],
      "metadata": {
        "id": "HeFs_si1uH_3",
        "colab": {
          "base_uri": "https://localhost:8080/"
        },
        "outputId": "3438dc08-457f-46f0-d939-f4661814f29e"
      },
      "execution_count": null,
      "outputs": [
        {
          "output_type": "stream",
          "name": "stdout",
          "text": [
            "Mean: 5.5\n",
            "Median: 5.5\n",
            "Mode: 1\n"
          ]
        }
      ]
    },
    {
      "cell_type": "markdown",
      "source": [
        "# question-2. Write a Python program to compute the variance and standard deviation of a dataset."
      ],
      "metadata": {
        "id": "kcLm5PqL6RKW"
      }
    },
    {
      "cell_type": "code",
      "source": [
        "dataset = [1, 2, 3, 4, 5, 6, 7, 8, 9, 10]\n",
        "mean = sum(dataset) / len(dataset)\n",
        "variance = sum((x - mean) ** 2 for x in dataset) / (len(dataset) - 1)\n",
        "std_deviation = variance ** 0.5\n",
        "print(f\"Variance: {variance}\")\n"
      ],
      "metadata": {
        "colab": {
          "base_uri": "https://localhost:8080/"
        },
        "id": "18SZz7vz6VTS",
        "outputId": "ffd65503-3124-4fb7-83b4-67a8a6c121a4"
      },
      "execution_count": null,
      "outputs": [
        {
          "output_type": "stream",
          "name": "stdout",
          "text": [
            "Variance: 9.166666666666666\n"
          ]
        }
      ]
    },
    {
      "cell_type": "markdown",
      "source": [
        "# question-3. Create a dataset and classify it into nominal, ordinal, interval, and ratio types?"
      ],
      "metadata": {
        "id": "zycMzAP16__h"
      }
    },
    {
      "cell_type": "code",
      "source": [
        "import pandas as pd\n",
        "\n",
        "data = {\n",
        "    'Name': ['niyati', 'prateek', 'priyanshi'],\n",
        "    'Gender': ['Female', 'Male', 'Female'],\n",
        "    'Education': ['phd', 'phd', 'PhD'],\n",
        "    'Temperature': [36.5, 37.0, 36.2],\n",
        "    'Age': [20, 20, 20],\n",
        "    'Salary': [50000, 980000, 45000]\n",
        "}\n",
        "\n",
        "df = pd.DataFrame(data)\n",
        "print(df)\n",
        "\n",
        "print(\"\\nColumn Types:\")\n",
        "print(\"Name         : Nominal\")\n",
        "print(\"Gender       : Nominal\")\n",
        "print(\"Education    : Ordinal\")\n",
        "print(\"Temperature  : Interval\")\n",
        "print(\"Age          : Ratio\")\n",
        "print(\"Salary       : Ratio\")\n"
      ],
      "metadata": {
        "id": "jkktPlAJ7jmH",
        "colab": {
          "base_uri": "https://localhost:8080/"
        },
        "outputId": "9e72cdea-38da-4be8-a017-f4e7fc4bb0ce"
      },
      "execution_count": null,
      "outputs": [
        {
          "output_type": "stream",
          "name": "stdout",
          "text": [
            "        Name  Gender Education  Temperature  Age  Salary\n",
            "0     niyati  Female       phd         36.5   20   50000\n",
            "1    prateek    Male       phd         37.0   20  980000\n",
            "2  priyanshi  Female       PhD         36.2   20   45000\n",
            "\n",
            "Column Types:\n",
            "Name         : Nominal\n",
            "Gender       : Nominal\n",
            "Education    : Ordinal\n",
            "Temperature  : Interval\n",
            "Age          : Ratio\n",
            "Salary       : Ratio\n"
          ]
        }
      ]
    },
    {
      "cell_type": "markdown",
      "source": [
        "# question-4.Implement sampling techniques like random sampling and stratified sampling."
      ],
      "metadata": {
        "id": "roanI-cpqmem"
      }
    },
    {
      "cell_type": "code",
      "source": [],
      "metadata": {
        "id": "WEluVNmlr_h9"
      },
      "execution_count": null,
      "outputs": []
    },
    {
      "cell_type": "markdown",
      "source": [
        "# questioon-5.Write a Python function to calculate the range of a dataset."
      ],
      "metadata": {
        "id": "058gbxuCsI3s"
      }
    },
    {
      "cell_type": "code",
      "source": [
        "def calculate_range(dataset):\n",
        "    minimum = min(dataset)\n",
        "    maximum = max(dataset)\n",
        "    return maximum - minimum\n",
        "dataset = [1, 2, 3, 4, 5, 6, 7, 8, 9, 10]\n",
        "range_value = calculate_range(dataset)\n",
        "print(f\"Range: {range_value}\")\n"
      ],
      "metadata": {
        "colab": {
          "base_uri": "https://localhost:8080/"
        },
        "id": "EC8PjLFjsN-y",
        "outputId": "e120242f-8fe0-4868-997f-d9345cfae253"
      },
      "execution_count": null,
      "outputs": [
        {
          "output_type": "stream",
          "name": "stdout",
          "text": [
            "Range: 9\n"
          ]
        }
      ]
    },
    {
      "cell_type": "markdown",
      "source": [
        "#question-6. Create a dataset and plot its histogram to visualize skewness."
      ],
      "metadata": {
        "id": "rocHJBgSsg9E"
      }
    },
    {
      "cell_type": "code",
      "source": [
        "import matplotlib.pyplot as plt\n",
        "dataset = [1, 2, 3, 4, 5, 6, 7, 8, 9, 10]\n",
        "\n",
        "plt.hist(dataset, bins=5, edgecolor='black')\n",
        "plt.xlabel('Values')\n",
        "plt.ylabel('Frequency')\n",
        "plt.title('Histogram of Dataset')\n",
        "plt.show()\n"
      ],
      "metadata": {
        "colab": {
          "base_uri": "https://localhost:8080/",
          "height": 472
        },
        "id": "exWM8ITasXKz",
        "outputId": "a7c18107-2145-460a-afeb-49889d7b35a2"
      },
      "execution_count": null,
      "outputs": [
        {
          "output_type": "display_data",
          "data": {
            "text/plain": [
              "<Figure size 640x480 with 1 Axes>"
            ],
            "image/png": "[encoded data removed]"
          },
          "metadata": {}
        }
      ]
    },
    {
      "cell_type": "markdown",
      "source": [
        "#question-7.Calculate skewness and kurtosis of a dataset using Python libraries?"
      ],
      "metadata": {
        "id": "M0jchhtys2Q3"
      }
    },
    {
      "cell_type": "code",
      "source": [
        "import scipy.stats as stats\n",
        "dataset = [1, 2, 3, 4, 5, 6, 7, 8, 9, 10]\n",
        "skewness = stats.skew(dataset)\n",
        "kurtosis = stats.kurtosis(dataset)\n",
        "print(f\"Skewness: {skewness}\")\n",
        "print(f\"Kurtosis: {kurtosis}\")\n"
      ],
      "metadata": {
        "colab": {
          "base_uri": "https://localhost:8080/"
        },
        "id": "6-WD7CissxxV",
        "outputId": "ab807195-c0d6-4e06-e764-a42b778cf821"
      },
      "execution_count": null,
      "outputs": [
        {
          "output_type": "stream",
          "name": "stdout",
          "text": [
            "Skewness: 0.0\n",
            "Kurtosis: -1.2242424242424244\n"
          ]
        }
      ]
    },
    {
      "cell_type": "markdown",
      "source": [
        "# question-8.Generate a dataset and demonstrate positive and negative skewness."
      ],
      "metadata": {
        "id": "rhApiFCutM-A"
      }
    },
    {
      "cell_type": "code",
      "source": [
        "positive_skew_data = [1, 2, 2, 3, 3, 3, 4, 4, 5, 20]\n",
        "\n",
        "plt.figure(figsize=(12, 5))\n",
        "\n",
        "plt.subplot(1, 2, 1)\n",
        "plt.hist(positive_skew_data, bins=5, edgecolor='black')\n",
        "plt.xlabel('Values')\n",
        "plt.ylabel('Frequency')\n",
        "plt.title('Histogram of Positively Skewed Data')\n",
        "\n",
        "negative_skew_data = [1, 15, 16, 17, 17, 17, 18, 18, 19, 20]\n",
        "\n",
        "plt.subplot(1, 2, 2)\n",
        "plt.hist(negative_skew_data, bins=5, edgecolor='black')\n",
        "plt.xlabel('Values')\n",
        "plt.ylabel('Frequency')\n",
        "plt.title('Histogram of Negatively Skewed Data')\n",
        "\n",
        "plt.tight_layout()\n",
        "plt.show()\n",
        "\n",
        "print(\"Skewness of Positive Skewed Data:\", stats.skew(positive_skew_data))\n",
        "print(\"Skewness of Negative Skewed Data:\", stats.skew(negative_skew_data))"
      ],
      "metadata": {
        "colab": {
          "base_uri": "https://localhost:8080/",
          "height": 542
        },
        "id": "z2URLAB3tIWW",
        "outputId": "1ae0e28f-7f55-48c6-c1d7-4798c0acc43e"
      },
      "execution_count": null,
      "outputs": [
        {
          "output_type": "display_data",
          "data": {
            "text/plain": [
              "<Figure size 1200x500 with 2 Axes>"
            ],
            "image/png": "[encoded data removed]"
          },
          "metadata": {}
        },
        {
          "output_type": "stream",
          "name": "stdout",
          "text": [
            "Skewness of Positive Skewed Data: 2.4491024072929966\n",
            "Skewness of Negative Skewed Data: -2.3235847899708277\n"
          ]
        }
      ]
    },
    {
      "cell_type": "markdown",
      "source": [
        "#question-9.Write a Python script to calculate covariance between two datasets."
      ],
      "metadata": {
        "id": "er4dNCZUuiBU"
      }
    },
    {
      "cell_type": "code",
      "source": [
        "import numpy as np\n",
        "import pandas as pd\n",
        "\n",
        "x = [2, 4, 6, 8, 10]\n",
        "y = [1, 3, 5, 7, 9]\n",
        "\n",
        "\n",
        "cov_matrix = np.cov(x, y)\n",
        "cov_xy = cov_matrix[0, 1]\n",
        "print(f\"Covariance (NumPy): {cov_xy}\")\n"
      ],
      "metadata": {
        "colab": {
          "base_uri": "https://localhost:8080/"
        },
        "id": "NFpwgLiiubTG",
        "outputId": "3b480d4c-a8c5-4fce-c9f5-e62e371be49f"
      },
      "execution_count": null,
      "outputs": [
        {
          "output_type": "stream",
          "name": "stdout",
          "text": [
            "Covariance (NumPy): 10.0\n"
          ]
        }
      ]
    },
    {
      "cell_type": "markdown",
      "source": [
        "# question-10. Write a Python script to calculate the correlation coefficient between two datasets."
      ],
      "metadata": {
        "id": "aPCe91luvrnt"
      }
    },
    {
      "cell_type": "code",
      "source": [
        "import numpy as np\n",
        "\n",
        "def calculate_correlation_coefficient(data1, data2):\n",
        "    if len(data1) != len(data2):\n",
        "        raise ValueError(\"Datasets must have the same length.\")\n",
        "\n",
        "    correlation_matrix = np.corrcoef(data1, data2)\n",
        "    return correlation_matrix[0, 1]\n",
        "\n",
        "dataset1 = [10, 20, 30, 40, 50]\n",
        "dataset2 = [12, 24, 33, 45, 55]\n",
        "\n",
        "correlation = calculate_correlation_coefficient(dataset1, dataset2)\n",
        "print(f\"Correlation Coefficient: {correlation:.4f}\")\n"
      ],
      "metadata": {
        "id": "2OadXj39u7kk",
        "colab": {
          "base_uri": "https://localhost:8080/"
        },
        "outputId": "523ccba3-7da9-495b-eb73-8f4a185bc0ab"
      },
      "execution_count": 1,
      "outputs": [
        {
          "output_type": "stream",
          "name": "stdout",
          "text": [
            "Correlation Coefficient: 0.9992\n"
          ]
        }
      ]
    },
    {
      "cell_type": "markdown",
      "source": [
        "# question-11.Create a scatter plot to visualize the relationship between two variables."
      ],
      "metadata": {
        "id": "mKXrIqsuwojJ"
      }
    },
    {
      "cell_type": "code",
      "source": [
        "import matplotlib.pyplot as plt\n",
        "\n",
        "x = [10, 20, 30, 40, 50]\n",
        "y = [12, 24, 33, 45, 55]\n",
        "\n",
        "\n",
        "plt.scatter(x, y, color='blue', marker='o', label='Data Points')\n",
        "\n",
        "\n",
        "plt.title('Scatter Plot of Two Variables')\n",
        "plt.xlabel('Variable X')\n",
        "plt.ylabel('Variable Y')\n",
        "\n",
        "\n",
        "plt.grid(True)\n",
        "plt.legend()\n",
        "\n",
        "plt.show()\n"
      ],
      "metadata": {
        "colab": {
          "base_uri": "https://localhost:8080/",
          "height": 472
        },
        "id": "Ib9k-Bsgwsbn",
        "outputId": "ba81d484-bb42-4579-e18f-d44493aaedfe"
      },
      "execution_count": 2,
      "outputs": [
        {
          "output_type": "display_data",
          "data": {
            "text/plain": [
              "<Figure size 640x480 with 1 Axes>"
            ],
            "image/png": "[encoded data removed]"
          },
          "metadata": {}
        }
      ]
    },
    {
      "cell_type": "markdown",
      "source": [
        "# question-12.Implement and compare simple random sampling and systematic sampling."
      ],
      "metadata": {
        "id": "3fwqKn0-w5Iz"
      }
    },
    {
      "cell_type": "code",
      "source": [
        "import numpy as np\n",
        "import pandas as pd\n",
        "\n",
        "population = pd.Series(np.arange(1, 101))\n",
        "sample_size = 10\n",
        "\n",
        "# Simple Random Sampling\n",
        "def simple_random_sampling(data, n):\n",
        "    return data.sample(n=n, random_state=42)\n",
        "\n",
        "# Systematic Sampling\n",
        "def systematic_sampling(data, n):\n",
        "    k = len(data) // n\n",
        "    start = np.random.randint(0, k)\n",
        "    indices = np.arange(start, len(data), k)[:n]\n",
        "    return data.iloc[indices]\n",
        "\n",
        "\n",
        "simple_sample = simple_random_sampling(population, sample_size)\n",
        "systematic_sample = systematic_sampling(population, sample_size)\n",
        "\n",
        "print(\"Simple Random Sample:\\n\", simple_sample.sort_values().to_list())\n",
        "print(\"\\nSystematic Sample:\\n\", systematic_sample.sort_values().to_list())\n"
      ],
      "metadata": {
        "colab": {
          "base_uri": "https://localhost:8080/"
        },
        "id": "yuhzvGjnwVOe",
        "outputId": "9ad4f6b2-c259-4f6e-b99a-329cd0e53dd5"
      },
      "execution_count": 3,
      "outputs": [
        {
          "output_type": "stream",
          "name": "stdout",
          "text": [
            "Simple Random Sample:\n",
            " [1, 11, 23, 40, 45, 46, 54, 71, 81, 84]\n",
            "\n",
            "Systematic Sample:\n",
            " [3, 13, 23, 33, 43, 53, 63, 73, 83, 93]\n"
          ]
        }
      ]
    },
    {
      "cell_type": "markdown",
      "source": [
        "# question-13.Calculate the mean, median, and mode of grouped data."
      ],
      "metadata": {
        "id": "pGrMiTCdxXrx"
      }
    },
    {
      "cell_type": "markdown",
      "source": [
        "# question-14.Simulate data using Python and calculate its central tendency and dispersion."
      ],
      "metadata": {
        "id": "DBp6AOIjx4Fq"
      }
    },
    {
      "cell_type": "code",
      "source": [
        "import numpy as np\n",
        "import pandas as pd\n",
        "from scipy import stats\n",
        "\n",
        "\n",
        "np.random.seed(42)\n",
        "data = np.random.normal(loc=50, scale=10, size=100)\n",
        "df = pd.Series(data)\n",
        "\n",
        "\n",
        "mean = df.mean()\n",
        "median = df.median()\n",
        "mode = df.mode().iloc[0]\n",
        "\n",
        "data_range = df.max() - df.min()\n",
        "variance = df.var()\n",
        "std_dev = df.std()\n",
        "\n",
        "\n",
        "print(\"Central Tendency \")\n",
        "print(f\"Mean   : {mean:.2f}\")\n",
        "print(f\"Median : {median:.2f}\")\n",
        "print(f\"Mode   : {mode:.2f}\")\n",
        "\n",
        "print(\"\\n Dispersion \")\n",
        "print(f\"Range      : {data_range:.2f}\")\n",
        "print(f\"Variance   : {variance:.2f}\")\n",
        "print(f\"Std Dev    : {std_dev:.2f}\")\n"
      ],
      "metadata": {
        "colab": {
          "base_uri": "https://localhost:8080/"
        },
        "id": "RuCcsOcUx8tb",
        "outputId": "6b7e428c-2e2a-4f6c-fc6e-f97ce2e10e7f"
      },
      "execution_count": 5,
      "outputs": [
        {
          "output_type": "stream",
          "name": "stdout",
          "text": [
            "Central Tendency \n",
            "Mean   : 48.96\n",
            "Median : 48.73\n",
            "Mode   : 23.80\n",
            "\n",
            " Dispersion \n",
            "Range      : 44.72\n",
            "Variance   : 82.48\n",
            "Std Dev    : 9.08\n"
          ]
        }
      ]
    },
    {
      "cell_type": "markdown",
      "source": [
        "# question-15.Use NumPy or pandas to summarize a dataset’s descriptive statistics."
      ],
      "metadata": {
        "id": "Fbnk0X2Syl1h"
      }
    },
    {
      "cell_type": "code",
      "source": [
        "import numpy as np\n",
        "\n",
        "\n",
        "data = np.array([23, 45, 12, 67, 34, 89, 21, 40, 36, 29])\n",
        "\n",
        "\n",
        "mean = np.mean(data)\n",
        "median = np.median(data)\n",
        "std = np.std(data, ddof=1)\n",
        "variance = np.var(data, ddof=1)\n",
        "data_range = np.max(data) - np.min(data)\n",
        "minimum = np.min(data)\n",
        "maximum = np.max(data)\n",
        "\n",
        "\n",
        "print(f\"Mean     : {mean}\")\n",
        "print(f\"Median   : {median}\")\n",
        "print(f\"Std Dev  : {std}\")\n",
        "print(f\"Variance : {variance}\")\n",
        "print(f\"Range    : {data_range}\")\n",
        "print(f\"Min      : {minimum}\")\n",
        "print(f\"Max      : {maximum}\")\n"
      ],
      "metadata": {
        "colab": {
          "base_uri": "https://localhost:8080/"
        },
        "id": "uezfJ6Lxyey9",
        "outputId": "c86db4df-1fea-4d2b-f29c-6657485103fb"
      },
      "execution_count": 6,
      "outputs": [
        {
          "output_type": "stream",
          "name": "stdout",
          "text": [
            "Mean     : 39.6\n",
            "Median   : 35.0\n",
            "Std Dev  : 22.998550678973952\n",
            "Variance : 528.9333333333333\n",
            "Range    : 77\n",
            "Min      : 12\n",
            "Max      : 89\n"
          ]
        }
      ]
    },
    {
      "cell_type": "markdown",
      "source": [
        "# question-16. Plot a boxplot to understand the spread and identify outliers."
      ],
      "metadata": {
        "id": "n7kIXRLIzM2c"
      }
    },
    {
      "cell_type": "code",
      "source": [],
      "metadata": {
        "id": "NGIUdmVfzJyD"
      },
      "execution_count": null,
      "outputs": []
    },
    {
      "cell_type": "markdown",
      "source": [
        "# question-17.Calculate the interquartile range (IQR) of a dataset."
      ],
      "metadata": {
        "id": "e0rkH7Aizjr1"
      }
    },
    {
      "cell_type": "code",
      "source": [
        "import numpy as np\n",
        "\n",
        "\n",
        "data = np.array([23, 45, 12, 67, 34, 89, 21, 40, 36, 29])\n",
        "\n",
        "q1 = np.percentile(data, 25)\n",
        "q3 = np.percentile(data, 75)\n",
        "\n",
        "iqr = q3 - q1\n",
        "\n",
        "\n",
        "print(f\"Q1 (25th percentile): {q1}\")\n",
        "print(f\"Q3 (75th percentile): {q3}\")\n",
        "print(f\"IQR (Q3 - Q1): {iqr}\")\n"
      ],
      "metadata": {
        "colab": {
          "base_uri": "https://localhost:8080/"
        },
        "id": "oobhYGQozoQ1",
        "outputId": "47c75621-011f-4048-f568-e67942f413e4"
      },
      "execution_count": 7,
      "outputs": [
        {
          "output_type": "stream",
          "name": "stdout",
          "text": [
            "Q1 (25th percentile): 24.5\n",
            "Q3 (75th percentile): 43.75\n",
            "IQR (Q3 - Q1): 19.25\n"
          ]
        }
      ]
    },
    {
      "cell_type": "markdown",
      "source": [
        "# question-18.Implement Z-score normalization and explain its significance."
      ],
      "metadata": {
        "id": "trf8IT0oz6gK"
      }
    },
    {
      "cell_type": "code",
      "source": [
        "import numpy as np\n",
        "\n",
        "\n",
        "data = np.array([10, 15, 20, 25, 30])\n",
        "\n",
        "\n",
        "mean = np.mean(data)\n",
        "std = np.std(data)\n",
        "\n",
        "z_scores = (data - mean) / std\n",
        "\n",
        "print(\"Original data:\", data)\n",
        "print(\"Mean:\", mean)\n",
        "print(\"Standard Deviation:\", std)\n",
        "print(\"Z-score normalized data:\", z_scores)\n"
      ],
      "metadata": {
        "colab": {
          "base_uri": "https://localhost:8080/"
        },
        "id": "sgPEZx32z5L1",
        "outputId": "c52ad744-abbf-4fba-81fa-5621a1552633"
      },
      "execution_count": 8,
      "outputs": [
        {
          "output_type": "stream",
          "name": "stdout",
          "text": [
            "Original data: [10 15 20 25 30]\n",
            "Mean: 20.0\n",
            "Standard Deviation: 7.0710678118654755\n",
            "Z-score normalized data: [-1.41421356 -0.70710678  0.          0.70710678  1.41421356]\n"
          ]
        }
      ]
    },
    {
      "cell_type": "markdown",
      "source": [
        "# question-19.Compare two datasets using their standard deviations."
      ],
      "metadata": {
        "id": "IwNHz_Uu0QG0"
      }
    },
    {
      "cell_type": "code",
      "source": [
        "import numpy as np\n",
        "data1 = np.array([10, 12, 14, 15, 16, 18, 20])\n",
        "data2 = np.array([8, 9, 15, 16, 25, 27, 30])\n",
        "std1 = np.std(data1, ddof=1)\n",
        "std2 = np.std(data2, ddof=1)\n",
        "print(f\"Standard Deviation of dataset 1: {std1:.2f}\")\n",
        "print(f\"Standard Deviation of dataset 2: {std2:.2f}\")\n",
        "if std1 > std2:\n",
        "    print(\"Dataset 1 has greater variability.\")\n",
        "elif std1 < std2:\n",
        "    print(\"Dataset 2 has greater variability.\")\n",
        "else:\n",
        "    print(\"Both datasets have the same variability.\")\n"
      ],
      "metadata": {
        "colab": {
          "base_uri": "https://localhost:8080/"
        },
        "id": "1P1eH5q70O_Z",
        "outputId": "ec6a8b7e-2d6e-4951-d63c-a530da7a9e89"
      },
      "execution_count": 9,
      "outputs": [
        {
          "output_type": "stream",
          "name": "stdout",
          "text": [
            "Standard Deviation of dataset 1: 3.42\n",
            "Standard Deviation of dataset 2: 8.81\n",
            "Dataset 2 has greater variability.\n"
          ]
        }
      ]
    },
    {
      "cell_type": "markdown",
      "source": [
        "# question-20.Write a Python program to visualize covariance using a heatmap."
      ],
      "metadata": {
        "id": "hSqmAn9Y0jJP"
      }
    },
    {
      "cell_type": "code",
      "source": [
        "import numpy as np\n",
        "import seaborn as sns\n",
        "import matplotlib.pyplot as plt\n",
        "\n",
        "\n",
        "\n",
        "data = np.random.randn(100, 3)\n",
        "\n",
        "\n",
        "cov_matrix = np.cov(data, rowvar=False)\n",
        "\n",
        "\n",
        "sns.heatmap(cov_matrix, annot=True, cmap='coolwarm')\n",
        "plt.title('Covariance Matrix Heatmap')\n",
        "plt.show()\n"
      ],
      "metadata": {
        "colab": {
          "base_uri": "https://localhost:8080/",
          "height": 452
        },
        "id": "1M47DOQj0h7Z",
        "outputId": "0b3090ba-5087-4098-bbfa-c092c80dcaf4"
      },
      "execution_count": 10,
      "outputs": [
        {
          "output_type": "display_data",
          "data": {
            "text/plain": [
              "<Figure size 640x480 with 2 Axes>"
            ],
            "image/png": "[encoded data removed]"
          },
          "metadata": {}
        }
      ]
    },
    {
      "cell_type": "markdown",
      "source": [
        "# question-21. Use seaborn to create a correlation matrix for a dataset."
      ],
      "metadata": {
        "id": "RyAwG40W1Bf5"
      }
    },
    {
      "cell_type": "code",
      "source": [
        "import seaborn as sns\n",
        "import pandas as pd\n",
        "import numpy as np\n",
        "import matplotlib.pyplot as plt\n",
        "\n",
        "np.random.seed(1)\n",
        "data = pd.DataFrame({\n",
        "    'Feature1': np.random.randn(100),\n",
        "    'Feature2': np.random.randn(100) * 50 + 20,\n",
        "    'Feature3': np.random.randn(100) * 10 - 5\n",
        "})\n",
        "\n",
        "corr_matrix = data.corr()\n",
        "\n",
        "sns.heatmap(corr_matrix, annot=True, cmap='coolwarm', square=True)\n",
        "plt.title('Correlation Matrix Heatmap')\n",
        "plt.show()\n"
      ],
      "metadata": {
        "colab": {
          "base_uri": "https://localhost:8080/",
          "height": 452
        },
        "id": "PisxBgMh09v6",
        "outputId": "65d805f0-e51e-41a6-f17a-685b63c7b6fe"
      },
      "execution_count": 11,
      "outputs": [
        {
          "output_type": "display_data",
          "data": {
            "text/plain": [
              "<Figure size 640x480 with 2 Axes>"
            ],
            "image/png": "[encoded data removed]"
          },
          "metadata": {}
        }
      ]
    },
    {
      "cell_type": "markdown",
      "source": [
        "# question-22.Generate a dataset and implement both variance and standard deviation computations."
      ],
      "metadata": {
        "id": "ffXVni0x1P6q"
      }
    },
    {
      "cell_type": "code",
      "source": [
        "import numpy as np\n",
        "np.random.seed(42)\n",
        "data = np.random.randn(20) * 10 + 50\n",
        "\n",
        "variance = np.var(data, ddof=1)\n",
        "std_dev = np.std(data, ddof=1)\n",
        "\n",
        "print(\"Dataset:\", np.round(data, 2))\n",
        "print(f\"Variance: {variance:.2f}\")\n",
        "print(f\"Standard Deviation: {std_dev:.2f}\")\n"
      ],
      "metadata": {
        "colab": {
          "base_uri": "https://localhost:8080/"
        },
        "id": "mP0vPkCk1OWq",
        "outputId": "7a800963-77b7-4639-e7bd-1e1e60d151db"
      },
      "execution_count": 12,
      "outputs": [
        {
          "output_type": "stream",
          "name": "stdout",
          "text": [
            "Dataset: [54.97 48.62 56.48 65.23 47.66 47.66 65.79 57.67 45.31 55.43 45.37 45.34\n",
            " 52.42 30.87 32.75 44.38 39.87 53.14 40.92 35.88]\n",
            "Variance: 92.17\n",
            "Standard Deviation: 9.60\n"
          ]
        }
      ]
    },
    {
      "cell_type": "markdown",
      "source": [
        "# question-23.Visualize skewness and kurtosis using Python libraries like matplotlib or seaborn."
      ],
      "metadata": {
        "id": "y1oGtBog1vz2"
      }
    },
    {
      "cell_type": "markdown",
      "source": [
        "# question-24. Implement the Pearson and Spearman correlation coefficients for a dataset."
      ],
      "metadata": {
        "id": "VDl4_WT310hB"
      }
    },
    {
      "cell_type": "code",
      "source": [
        "import numpy as np\n",
        "from scipy.stats import pearsonr, spearmanr\n",
        "\n",
        "x = np.array([10, 20, 30, 40, 50])\n",
        "y = np.array([12, 24, 33, 45, 55])\n",
        "\n",
        "pearson_corr, pearson_p = pearsonr(x, y)\n",
        "\n",
        "spearman_corr, spearman_p = spearmanr(x, y)\n",
        "\n",
        "print(f\"Pearson correlation: {pearson_corr:.3f}, p-value: {pearson_p:.3f}\")\n",
        "print(f\"Spearman correlation: {spearman_corr:.3f}, p-value: {spearman_p:.3f}\")\n"
      ],
      "metadata": {
        "colab": {
          "base_uri": "https://localhost:8080/"
        },
        "id": "xaa4DPzD1sOM",
        "outputId": "1aec7e48-c785-43e0-e5fa-075f73af76a0"
      },
      "execution_count": 13,
      "outputs": [
        {
          "output_type": "stream",
          "name": "stdout",
          "text": [
            "Pearson correlation: 0.999, p-value: 0.000\n",
            "Spearman correlation: 1.000, p-value: 0.000\n"
          ]
        }
      ]
    },
    {
      "cell_type": "code",
      "source": [],
      "metadata": {
        "id": "LSRzFWO02EY3"
      },
      "execution_count": null,
      "outputs": []
    }
  ]
}