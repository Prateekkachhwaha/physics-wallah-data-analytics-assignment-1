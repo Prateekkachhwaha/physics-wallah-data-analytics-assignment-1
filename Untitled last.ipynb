{
  "nbformat": 4,
  "nbformat_minor": 0,
  "metadata": {
    "colab": {
      "provenance": []
    },
    "kernelspec": {
      "name": "python3",
      "display_name": "Python 3"
    },
    "language_info": {
      "name": "python"
    }
  },
  "cells": [
    {
      "cell_type": "markdown",
      "source": [
        "##Restful API & Flask\n",
        "\n",
        "\n",
        "## theory questiosn\n"
      ],
      "metadata": {
        "id": "9txAPLzIqwCo"
      }
    },
    {
      "cell_type": "markdown",
      "source": [
        "# question-1.What is a RESTful API?\n",
        "- A RESTful API (Representational State Transfer API) is a web service that follows the principles of REST architecture. It allows different systems or applications to communicate with each other over the HTTP protocol, usually using standard web methods like GET, POST, PUT, DELETE.\n",
        "\n",
        "# question-2. Explain the concept of API specification.\n",
        "- An API specification is a document that describes how an API works. It tells developers:\n",
        "\n",
        "  - What endpoints are available (e.g., /users)\n",
        "\n",
        "  - What HTTP methods to use (GET, POST, etc.)\n",
        "\n",
        "  - What data to send and receive\n",
        "\n",
        "  - What errors can happen\n",
        "\n",
        "# question-3.What is Flask, and why is it popular for building APIs?\n",
        "- Flask is a lightweight web framework in Python used to build web applications and APIs. It’s known for being simple, flexible, and easy to learn.\n",
        "\n",
        "- it is popular by following reasons :-\n",
        "    - Lightweight\tMinimal setup\n",
        "    - Easy to Use\tSimple\n",
        "    - Flexible\n",
        "    - Built-in Server\n",
        "\n",
        "# question-4.What is routing in Flask?\n",
        "- Routing in Flask is the process of mapping URLs to functions in your application. When a user visits a specific URL, Flask uses routing to decide which Python function (called a view function) should handle that request and return a response.\n",
        "\n",
        "# question-5.How do you create a simple Flask application?\n",
        "``` python\n",
        "from flask import Flask\n",
        "\n",
        "app = Flask(__name__)\n",
        "\n",
        "@app.route('/')\n",
        "def home():\n",
        "    return 'Hello, Flask!'\n",
        "\n",
        "if __name__ == '__main__':\n",
        "    app.run(debug=True)\n",
        "python app.py\n",
        "\n",
        "```\n",
        "\n",
        "\n",
        "# question-6.What are HTTP methods used in RESTful APIs\n",
        "- common HTTP Methods:\n",
        "  - GET – Read data\n",
        "\n",
        "  - POST – Create new data\n",
        "\n",
        "  - PUT – Update/replace data\n",
        "\n",
        "  - PATCH – Partially update data\n",
        "\n",
        "  - DELETE – Remove data\n",
        "\n",
        "# question-7.What is the purpose of the @app.route() decorator in Flask?\n",
        "- The @app.route() decorator in Flask is used to define routes—it connects a URL path to a Python function.\n",
        "\n",
        "# question-8.What is the difference between GET and POST HTTP methods?\n",
        "- difference are given below :-\n",
        "\n",
        "1. **GET** sends data in the URL; **POST** sends data in the body.\n",
        "2. **GET** is used to fetch data; **POST** is used to submit data.\n",
        "3. **GET** is visible and bookmarkable; **POST** is hidden and not.\n",
        "4. **GET** requests are safe and idempotent; **POST** can change data.\n",
        "5. **GET** is ideal for search; **POST** is ideal for form submissions.\n",
        "\n",
        "# question-9.How do you handle errors in Flask APIs?\n",
        "- In Flask APIs, you handle errors by catching exceptions and returning appropriate HTTP responses. Here are common ways:\n",
        "\n",
        "   - Use @app.errorhandler to customize error responses globally.\n",
        "\n",
        "   - Return error responses in your routes manually.\n",
        "\n",
        "   - Use abort() to raise HTTP errors easily.\n",
        "\n",
        "\n",
        "# question-10.How do you connect Flask to a SQL database?\n",
        "``` python\n",
        "\n",
        "from flask import Flask\n",
        "from flask_sqlalchemy import SQLAlchemy\n",
        "\n",
        "app = Flask(__name__)\n",
        "app.config['SQLALCHEMY_DATABASE_URI'] = 'sqlite:///mydb.db'  # SQLite database\n",
        "\n",
        "db = SQLAlchemy(app)\n",
        "\n",
        "class User(db.Model):\n",
        "    id = db.Column(db.Integer, primary_key=True)\n",
        "    name = db.Column(db.String(50))\n",
        "\n",
        "if __name__ == '__main__':\n",
        "    with app.app_context():\n",
        "        db.create_all()  # create tables\n",
        "    app.run(debug=True)\n",
        "```\n",
        "\n",
        "# question-11.What is the role of Flask-SQLAlchemy?\n",
        "- Flask-SQLAlchemy is a Flask extension that simplifies using SQL databases with Flask by integrating SQLAlchemy ORM (Object-Relational Mapper) into your app.\n",
        "- its main roles are given below:-\n",
        "  - Provides an easy way to connect Flask to databases (like SQLite, PostgreSQL, MySQL).\n",
        "\n",
        "  - Lets you define database tables as Python classes (models).\n",
        "\n",
        "  - Handles SQL queries through Python objects instead of raw SQL.\n",
        "\n",
        "  - Manages database sessions and connections for you.\n",
        "\n",
        "  - Simplifies common tasks like creating tables, adding, updating, or deleting records.\n",
        "\n",
        "# question-12.What are Flask blueprints, and how are they useful?\n",
        "- Flask Blueprints are a way to organize and structure your Flask app by grouping related routes, templates, and static files into reusable components.\n",
        "\n",
        "- its useful in following ways:-\n",
        "  - Modularity: Split a large app into smaller, manageable pieces.\n",
        "\n",
        "  - Reusability: Reuse blueprints across different projects.\n",
        "\n",
        "  - Better organization: Keep routes, templates, and static files grouped logically.\n",
        "\n",
        "  - Team collaboration: Different teams can work on different blueprints without conflicts.\n",
        "\n",
        "# question-13.What is the purpose of Flask's request object?\n",
        "- The request object is like a messenger that brings you everything the user sends to your web app. Whether they fill out a form, click a link with some info, or send data behind the scenes, request helps you grab that info easily.\n",
        "\n",
        "For example, if someone types their name in a form and hits submit, the request object lets you get that name and use it in your app.\n",
        "\n",
        "# question-14.How do you create a RESTful API endpoint using Flask?\n",
        "``` python\n",
        "from flask import Flask, jsonify, request\n",
        "\n",
        "app = Flask(__name__)\n",
        "\n",
        "# Sample data (like a database)\n",
        "users = [\n",
        "    {'id': 1, 'name': 'Alice'},\n",
        "    {'id': 2, 'name': 'Bob'}\n",
        "]\n",
        "\n",
        "# GET /users - Retrieve all users\n",
        "@app.route('/users', methods=['GET'])\n",
        "def get_users():\n",
        "    return jsonify(users)\n",
        "\n",
        "# POST /users - Create a new user\n",
        "@app.route('/users', methods=['POST'])\n",
        "def create_user():\n",
        "    new_user = request.get_json()\n",
        "    users.append(new_user)\n",
        "    return jsonify(new_user), 201  # 201 Created\n",
        "\n",
        "if __name__ == '__main__':\n",
        "    app.run(debug=True)\n",
        "```\n",
        "# question-15.What is the purpose of Flask's jsonify() function?\n",
        "- Flask’s jsonify() function is used to convert Python data (like dictionaries or lists) into a JSON response that can be sent back to the client.\n",
        "\n",
        "# question-16.Explain Flask’s url_for() function.\n",
        "- url_for() is like your app’s built-in GPS — you just give it the name of the page you want to visit, and it figures out the exact web address for you. No need to worry about typing URLs or updating them if things change, it always points you in the right direction.\n",
        "\n",
        "# question-17.How does Flask handle static files (CSS, JavaScript, etc.)\n",
        "- Flask handles static files (like CSS, JavaScript, images) by serving them from a special folder named static inside your project.\n",
        "\n",
        "# question-18. What is an API specification, and how does it help in building a Flask API?\n",
        "- An API specification is a clear guide that defines how your API works—what URLs it has, what data it expects, and what it returns.\n",
        "\n",
        "It helps you build a Flask API by keeping everything organized, consistent, and easy to understand, making development and collaboration smoother\n",
        "\n",
        "# question-19.What are HTTP status codes, and why are they important in a Flask API4.\n",
        "- HTTP status codes are essential signals that communicate the outcome of each API request, making your Flask API clear and reliable.\n",
        "- why its important:-\n",
        "\n",
        "  - Communicate request outcomes clearly to clients.\n",
        "\n",
        "  - Help clients handle responses properly (e.g., retry, show errors).\n",
        "\n",
        "  - Improve API usability and debugging.\n",
        "\n",
        "  - Standardize how your API behaves across different clients.\n",
        "\n",
        "# question-20.M How do you handle POST requests in Flask?\n",
        "- To handle POST requests in Flask, you create a route that allows the POST method and then use request to access the data sent by the client.\n",
        "\n",
        "``` python\n",
        "from flask import Flask, request, jsonify\n",
        "\n",
        "app = Flask(__name__)\n",
        "\n",
        "@app.route('/submit', methods=['POST'])\n",
        "def submit():\n",
        "    data = request.get_json()  # Get JSON data from request body\n",
        "    name = data.get('name')\n",
        "    return jsonify({'message': f'Hello, {name}!'}), 201  # 201 Created\n",
        "\n",
        "if __name__ == '__main__':\n",
        "    app.run(debug=True)\n",
        "```\n",
        "\n",
        "# question-21.How would you secure a Flask API?\n",
        "- we can secure a flask API using:-\n",
        " - Use Authentication – Require tokens or API keys to access routes.\n",
        "\n",
        " - Use HTTPS – Encrypt data with SSL (don't use plain HTTP).\n",
        "\n",
        " - Validate Input – Always check and clean user input.\n",
        "\n",
        " - Limit Requests – Prevent abuse with rate limiting.\n",
        "\n",
        " - Handle Errors Safely – Don’t show sensitive info in error messages.\n",
        "\n",
        " - Add Security Headers – Use tools like Flask-Talisman to protect against attacks\n",
        "\n",
        "# question-22.What is the significance of the Flask-RESTful extension?\n",
        "- The Flask-RESTful extension makes it easier to build RESTful APIs with Flask by adding helpful tools and structure.\n",
        "\n",
        "- Significance:\n",
        "  - simplifies API creation – Lets you create API endpoints using classes instead of regular functions.\n",
        "\n",
        "  - Cleaner code – Organizes routes using resources and methods (like GET, POST, PUT, DELETE).\n",
        "\n",
        "  - Built-in request parsing – Helps handle and validate input data.\n",
        "\n",
        "  - Automatic error handling – Makes responses more consistent.\n",
        "\n",
        "  - Easy to scale – Good for larger APIs with many endpoints.\n",
        "\n",
        "# question-23.What is the role of Flask’s session object?\n",
        "- Flask’s session is like a small, secure notebook that remembers things about a user—like their name or if they're logged in—while they use your website.\n",
        "\n"
      ],
      "metadata": {
        "id": "_1sAAMViq9Vm"
      }
    },
    {
      "cell_type": "markdown",
      "source": [
        "**practicle questios**\n"
      ],
      "metadata": {
        "id": "2Trkz_2yCiEP"
      }
    },
    {
      "cell_type": "markdown",
      "source": [
        "# question-1.How do you create a basic Flask application?\n"
      ],
      "metadata": {
        "id": "LKBGbpBRCtm_"
      }
    },
    {
      "cell_type": "code",
      "source": [
        "from flask import Flask\n",
        "\n",
        "app = Flask(__name__)\n",
        "\n",
        "@app.route('/')\n",
        "def home():\n",
        "    return 'Hello, Flask!'\n",
        "\n",
        "if __name__ == '__main__':\n",
        "    app.run(debug=True)\n"
      ],
      "metadata": {
        "id": "5U0KYRssDT2_"
      },
      "execution_count": null,
      "outputs": []
    },
    {
      "cell_type": "markdown",
      "source": [
        "# question-2.How do you serve static files like images or CSS in Flask?"
      ],
      "metadata": {
        "id": "akYzm5T9DfXU"
      }
    },
    {
      "cell_type": "markdown",
      "source": [
        "# question-3. How do you define different routes with different HTTP methods in Flask?\n"
      ],
      "metadata": {
        "id": "sBNrdaKqENfW"
      }
    },
    {
      "cell_type": "code",
      "source": [
        "from flask import Flask, request\n",
        "\n",
        "app = Flask(__name__)\n",
        "\n",
        "@app.route('/item', methods=['GET'])\n",
        "def get_item():\n",
        "    return 'This is a GET request'\n",
        "\n",
        "@app.route('/item', methods=['POST'])\n",
        "def create_item():\n",
        "    data = request.get_json()\n",
        "    return f'You sent: {data}', 201\n"
      ],
      "metadata": {
        "id": "X7YC54e6DlOb"
      },
      "execution_count": null,
      "outputs": []
    },
    {
      "cell_type": "markdown",
      "source": [
        "# question-4.How do you render HTML templates in Flask?"
      ],
      "metadata": {
        "id": "ikbrWhjDEWJg"
      }
    },
    {
      "cell_type": "markdown",
      "source": [
        "# question-5.How can you generate URLs for routes in Flask using url_for?"
      ],
      "metadata": {
        "id": "jbq72SWQEyyT"
      }
    },
    {
      "cell_type": "code",
      "source": [
        "from flask import Flask, url_for\n",
        "\n",
        "app = Flask(__name__)\n",
        "\n",
        "@app.route('/')\n",
        "def home():\n",
        "    return 'Home Page'\n",
        "\n",
        "@app.route('/user/<username>')\n",
        "def profile(username):\n",
        "    return f'User: {username}'\n",
        "\n",
        "with app.test_request_context():\n",
        "    print(url_for('home'))\n",
        "    print(url_for('profile', username='Alice'))\n"
      ],
      "metadata": {
        "colab": {
          "base_uri": "https://localhost:8080/"
        },
        "id": "COSnbc0GEMUe",
        "outputId": "4996ae79-47bc-4333-d9ee-c09637a221ff"
      },
      "execution_count": null,
      "outputs": [
        {
          "output_type": "stream",
          "name": "stdout",
          "text": [
            "/\n",
            "/user/Alice\n"
          ]
        }
      ]
    },
    {
      "cell_type": "markdown",
      "source": [
        "# question-6."
      ],
      "metadata": {
        "id": "RzhzEx-bFHzN"
      }
    },
    {
      "cell_type": "markdown",
      "source": [
        "# question-7.How can you validate form data in Flask?"
      ],
      "metadata": {
        "id": "meitay24FZA1"
      }
    },
    {
      "cell_type": "code",
      "source": [
        "from flask import Flask, request, jsonify\n",
        "\n",
        "app = Flask(__name__)\n",
        "\n",
        "@app.route('/submit', methods=['POST'])\n",
        "def submit():\n",
        "    username = request.form.get('username')\n",
        "    if not username or len(username) < 3:\n",
        "        return jsonify({'error': 'Username must be at least 3 characters'}), 400\n",
        "    return f'Hello, {username}!'\n"
      ],
      "metadata": {
        "id": "nl8Bf0d-FB7V"
      },
      "execution_count": null,
      "outputs": []
    },
    {
      "cell_type": "markdown",
      "source": [
        "# question-8.How do you manage sessions in Flask?"
      ],
      "metadata": {
        "id": "rU1Hev41FlzY"
      }
    },
    {
      "cell_type": "code",
      "source": [
        "app = Flask(__name__)\n",
        "app.secret_key = 'your_secret_key'  # Keep this secret!\n",
        "from flask import session\n",
        "\n",
        "@app.route('/login')\n",
        "def login():\n",
        "    session['username'] = 'Alice'  # Save username in session\n",
        "    return 'Logged in!'\n",
        "@app.route('/profile')\n",
        "def profile():\n",
        "    username = session.get('username')\n",
        "    if username:\n",
        "        return f'Welcome, {username}!'\n",
        "    return 'Please log in first.'\n",
        "@app.route('/logout')\n",
        "def logout():\n",
        "    session.pop('username', None)  # Remove username\n",
        "    # or session.clear() to clear all session data\n",
        "    return 'Logged out!'\n"
      ],
      "metadata": {
        "id": "a-VdneUfFlF7"
      },
      "execution_count": null,
      "outputs": []
    },
    {
      "cell_type": "markdown",
      "source": [
        "# question-9.How do you redirect to a different route in Flask?"
      ],
      "metadata": {
        "id": "0pJYlReUGOor"
      }
    },
    {
      "cell_type": "code",
      "source": [
        "from flask import Flask, redirect, url_for\n",
        "\n",
        "app = Flask(__name__)\n",
        "\n",
        "@app.route('/')\n",
        "def home():\n",
        "    return 'This is the home page.'\n",
        "\n",
        "@app.route('/go-to-home')\n",
        "def go_home():\n",
        "    return redirect(url_for('home'))  # Redirects to the 'home' route\n",
        "\n",
        "if __name__ == '__main__':\n",
        "    app.run(debug=True)\n"
      ],
      "metadata": {
        "id": "QK3ZfOB6GdjE"
      },
      "execution_count": null,
      "outputs": []
    },
    {
      "cell_type": "markdown",
      "source": [
        "# question-10.How do you handle errors in Flask (e.g., 404)?"
      ],
      "metadata": {
        "id": "cbg0CLaJGiRz"
      }
    },
    {
      "cell_type": "code",
      "source": [
        "from flask import Flask, jsonify\n",
        "\n",
        "app = Flask(__name__)\n",
        "\n",
        "@app.errorhandler(404)\n",
        "def not_found(error):\n",
        "    return jsonify({'error': 'Page not found'}), 404\n",
        "\n",
        "@app.route('/')\n",
        "def home():\n",
        "    return 'Home Page'\n",
        "\n",
        "if __name__ == '__main__':\n",
        "    app.run(debug=True)\n"
      ],
      "metadata": {
        "id": "mDVcBT9PGz0q"
      },
      "execution_count": null,
      "outputs": []
    },
    {
      "cell_type": "markdown",
      "source": [
        "# question-11.How do you structure a Flask app using Blueprints?"
      ],
      "metadata": {
        "id": "pMq5UfnvG2zy"
      }
    },
    {
      "cell_type": "code",
      "source": [
        "from flask import Blueprint, Flask\n",
        "\n",
        "my_blueprint = Blueprint('my_blueprint', __name__)\n",
        "\n",
        "@my_blueprint.route('/blueprint_route')\n",
        "def blueprint_route():\n",
        "    return 'This is a route from the blueprint!'\n"
      ],
      "metadata": {
        "id": "FAvwKJxDHeaP"
      },
      "execution_count": null,
      "outputs": []
    },
    {
      "cell_type": "markdown",
      "source": [
        "# question-12. How do you define a custom Jinja filter in Flask?"
      ],
      "metadata": {
        "id": "_p4gjNTaHlC8"
      }
    },
    {
      "cell_type": "code",
      "source": [
        "from flask import Flask\n",
        "\n",
        "app = Flask(__name__)\n",
        "\n",
        "@app.template_filter('reverse')\n",
        "def reverse_filter(s):\n",
        "    return s[::-1]\n",
        "\n",
        "@app.route('/')\n",
        "def home():\n",
        "    sample = \"Hello\"\n",
        "\n",
        "    return f\"Reversed: {{ sample|reverse }}\", 200, {'Content-Type': 'text/html'}\n",
        "\n",
        "if __name__ == '__main__':\n",
        "    app.run(debug=True)\n"
      ],
      "metadata": {
        "id": "5ozYvlHjH1oW"
      },
      "execution_count": null,
      "outputs": []
    },
    {
      "cell_type": "markdown",
      "source": [
        "# question-13.How can you redirect with query parameters in Flask?"
      ],
      "metadata": {
        "id": "--9WzgpRH92A"
      }
    },
    {
      "cell_type": "code",
      "source": [
        "\n",
        "\n",
        "app = Flask(__name__)\n",
        "\n",
        "@app.route('/')\n",
        "def home():\n",
        "    return 'This is the home page.'\n",
        "\n",
        "@app.route('/redirect-with-params')\n",
        "def redirect_with_params():\n",
        "    params = {'param1': 'value1', 'param2': 'value2'}\n",
        "    return redirect(url_for('target_route', **params))\n",
        "\n",
        "@app.route('/target-route')\n",
        "def target_route():\n",
        "    param1 = request.args.get('param1')\n",
        "    param2 = request.args.get('param2')\n",
        "    return f'Arrived at target route with param1={param1} and param2={param2}'\n",
        "\n",
        "\n",
        "if __name__ == '__main__':\n",
        "    app.run(debug=True)\n"
      ],
      "metadata": {
        "id": "rLA4AgaNIYcf"
      },
      "execution_count": null,
      "outputs": []
    },
    {
      "cell_type": "markdown",
      "source": [
        "# question-14.How do you return JSON responses in Flask?"
      ],
      "metadata": {
        "id": "VFKiCvkyIciG"
      }
    },
    {
      "cell_type": "code",
      "source": [
        "from flask import Flask, jsonify\n",
        "\n",
        "app = Flask(__name__)\n",
        "\n",
        "@app.route('/api/data')\n",
        "def get_data():\n",
        "    data = {'name': 'prateek', 'age': 20}\n",
        "    return jsonify(data)\n"
      ],
      "metadata": {
        "id": "mUKcYJo9Ila8"
      },
      "execution_count": 2,
      "outputs": []
    },
    {
      "cell_type": "markdown",
      "source": [
        "# question-15.How do you capture URL parameters in Flask?"
      ],
      "metadata": {
        "id": "AExHgyZElDnM"
      }
    },
    {
      "cell_type": "code",
      "source": [
        "from flask import Flask\n",
        "\n",
        "app = Flask(__name__)\n",
        "\n",
        "@app.route('/user/<username>')\n",
        "def show_user_profile(username):\n",
        "    return f'User: {username}'\n"
      ],
      "metadata": {
        "id": "TIzZZp6Ektoi"
      },
      "execution_count": 3,
      "outputs": []
    },
    {
      "cell_type": "code",
      "source": [],
      "metadata": {
        "id": "jJno2c6olWg_"
      },
      "execution_count": null,
      "outputs": []
    }
  ]
}